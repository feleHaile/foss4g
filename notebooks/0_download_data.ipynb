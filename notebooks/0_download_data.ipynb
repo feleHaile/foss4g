{
 "cells": [
  {
   "cell_type": "code",
   "execution_count": 7,
   "metadata": {},
   "outputs": [
    {
     "name": "stdout",
     "output_type": "stream",
     "text": [
      "--2019-04-12 15:48:42--  https://hello.planet.com/data/s/KCoOzJeykvJ8NDD/download\n",
      "Resolving hello.planet.com (hello.planet.com)... 52.61.206.240, 160.1.67.18\n",
      "Connecting to hello.planet.com (hello.planet.com)|52.61.206.240|:443... connected.\n",
      "HTTP request sent, awaiting response... 200 OK\n",
      "Length: 155486436 (148M) [image/tiff]\n",
      "Saving to: ‘example.tif’\n",
      "\n",
      "example.tif         100%[===================>] 148.28M  11.0MB/s    in 14s     \n",
      "\n",
      "2019-04-12 15:48:56 (10.9 MB/s) - ‘example.tif’ saved [155486436/155486436]\n",
      "\n"
     ]
    }
   ],
   "source": [
    "!wget --content-disposition https://hello.planet.com/data/s/KCoOzJeykvJ8NDD/download"
   ]
  },
  {
   "cell_type": "code",
   "execution_count": 8,
   "metadata": {},
   "outputs": [
    {
     "name": "stdout",
     "output_type": "stream",
     "text": [
      "--2019-04-12 15:49:30--  https://hello.planet.com/data/s/nizMD8Dhyt94EJn/download\n",
      "Resolving hello.planet.com (hello.planet.com)... 160.1.67.18, 52.61.206.240\n",
      "Connecting to hello.planet.com (hello.planet.com)|160.1.67.18|:443... connected.\n",
      "HTTP request sent, awaiting response... 200 OK\n",
      "Length: 69137361 (66M) [image/tiff]\n",
      "Saving to: ‘20160831_180302_0e26_3B_Visual.tif.1’\n",
      "\n",
      "20160831_180302_0e2 100%[===================>]  65.93M  11.6MB/s    in 6.2s    \n",
      "\n",
      "2019-04-12 15:49:36 (10.6 MB/s) - ‘20160831_180302_0e26_3B_Visual.tif.1’ saved [69137361/69137361]\n",
      "\n"
     ]
    }
   ],
   "source": [
    "!wget --content-disposition https://hello.planet.com/data/s/nizMD8Dhyt94EJn/download"
   ]
  },
  {
   "cell_type": "code",
   "execution_count": null,
   "metadata": {},
   "outputs": [],
   "source": []
  }
 ],
 "metadata": {
  "kernelspec": {
   "display_name": "Python 3",
   "language": "python",
   "name": "python3"
  },
  "language_info": {
   "codemirror_mode": {
    "name": "ipython",
    "version": 3
   },
   "file_extension": ".py",
   "mimetype": "text/x-python",
   "name": "python",
   "nbconvert_exporter": "python",
   "pygments_lexer": "ipython3",
   "version": "3.7.3"
  }
 },
 "nbformat": 4,
 "nbformat_minor": 2
}
